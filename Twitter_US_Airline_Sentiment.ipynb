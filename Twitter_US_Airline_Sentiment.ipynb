{
 "cells": [
  {
   "cell_type": "code",
   "execution_count": 2,
   "metadata": {},
   "outputs": [],
   "source": [
    "import torch\n",
    "import torch.nn as nn\n",
    "from torch.utils.data import DataLoader\n",
    "from transformers import AutoTokenizer\n",
    "from transformers import AutoModelForSequenceClassification\n",
    "from transformers import AdamW\n",
    "from transformers import get_scheduler\n",
    "from accelerate import Accelerator\n",
    "from sklearn.model_selection import train_test_split\n",
    "from sklearn.model_selection import train_test_split\n",
    "from sklearn.metrics import accuracy_score, f1_score, recall_score, precision_score\n",
    "from tqdm import tqdm\n",
    "import pandas as pd\n",
    "import matplotlib.pyplot as plt"
   ]
  },
  {
   "cell_type": "code",
   "execution_count": 3,
   "metadata": {},
   "outputs": [
    {
     "name": "stdout",
     "output_type": "stream",
     "text": [
      "mps\n"
     ]
    }
   ],
   "source": [
    "def get_device():\n",
    "  device=\"cpu\"\n",
    "  if torch.cuda.is_available():\n",
    "    device=\"cuda\"\n",
    "  elif  torch.backends.mps.is_available():\n",
    "    device='mps'\n",
    "  else:\n",
    "    device=\"cpu\"\n",
    "  return device\n",
    "\n",
    "device = get_device()\n",
    "print(device) "
   ]
  },
  {
   "cell_type": "code",
   "execution_count": 4,
   "metadata": {},
   "outputs": [
    {
     "name": "stdout",
     "output_type": "stream",
     "text": [
      "==============================================\n",
      "The shape of the dataset is: (14640, 2)\n",
      "==============================================\n",
      "The number of sentiments in each category is:\n",
      "airline_sentiment\n",
      "negative    9178\n",
      "neutral     3099\n",
      "positive    2363\n",
      "Name: count, dtype: int64\n",
      "==============================================\n"
     ]
    },
    {
     "data": {
      "text/html": [
       "<div>\n",
       "<style scoped>\n",
       "    .dataframe tbody tr th:only-of-type {\n",
       "        vertical-align: middle;\n",
       "    }\n",
       "\n",
       "    .dataframe tbody tr th {\n",
       "        vertical-align: top;\n",
       "    }\n",
       "\n",
       "    .dataframe thead th {\n",
       "        text-align: right;\n",
       "    }\n",
       "</style>\n",
       "<table border=\"1\" class=\"dataframe\">\n",
       "  <thead>\n",
       "    <tr style=\"text-align: right;\">\n",
       "      <th></th>\n",
       "      <th>text</th>\n",
       "      <th>airline_sentiment</th>\n",
       "    </tr>\n",
       "  </thead>\n",
       "  <tbody>\n",
       "    <tr>\n",
       "      <th>0</th>\n",
       "      <td>@VirginAmerica What @dhepburn said.</td>\n",
       "      <td>neutral</td>\n",
       "    </tr>\n",
       "    <tr>\n",
       "      <th>1</th>\n",
       "      <td>@VirginAmerica plus you've added commercials t...</td>\n",
       "      <td>positive</td>\n",
       "    </tr>\n",
       "    <tr>\n",
       "      <th>2</th>\n",
       "      <td>@VirginAmerica I didn't today... Must mean I n...</td>\n",
       "      <td>neutral</td>\n",
       "    </tr>\n",
       "    <tr>\n",
       "      <th>3</th>\n",
       "      <td>@VirginAmerica it's really aggressive to blast...</td>\n",
       "      <td>negative</td>\n",
       "    </tr>\n",
       "    <tr>\n",
       "      <th>4</th>\n",
       "      <td>@VirginAmerica and it's a really big bad thing...</td>\n",
       "      <td>negative</td>\n",
       "    </tr>\n",
       "  </tbody>\n",
       "</table>\n",
       "</div>"
      ],
      "text/plain": [
       "                                                text airline_sentiment\n",
       "0                @VirginAmerica What @dhepburn said.           neutral\n",
       "1  @VirginAmerica plus you've added commercials t...          positive\n",
       "2  @VirginAmerica I didn't today... Must mean I n...           neutral\n",
       "3  @VirginAmerica it's really aggressive to blast...          negative\n",
       "4  @VirginAmerica and it's a really big bad thing...          negative"
      ]
     },
     "execution_count": 4,
     "metadata": {},
     "output_type": "execute_result"
    }
   ],
   "source": [
    "dataset = pd.read_csv(\"Tweets.csv\")\n",
    "dataset = dataset.filter([\"text\", \"airline_sentiment\"])\n",
    "print(\"==============================================\")\n",
    "print(f'The shape of the dataset is: {dataset.shape}')\n",
    "print(\"==============================================\")\n",
    "print(f'The number of sentiments in each category is:\\n{dataset.airline_sentiment.value_counts()}')\n",
    "print(\"==============================================\")\n",
    "dataset.head()"
   ]
  },
  {
   "cell_type": "code",
   "execution_count": 5,
   "metadata": {},
   "outputs": [
    {
     "name": "stderr",
     "output_type": "stream",
     "text": [
      "/var/folders/4j/f9p0tjqj1ql3bytxkr213dn40000gn/T/ipykernel_46052/1047948707.py:7: FutureWarning: Downcasting behavior in `replace` is deprecated and will be removed in a future version. To retain the old behavior, explicitly call `result.infer_objects(copy=False)`. To opt-in to the future behavior, set `pd.set_option('future.no_silent_downcasting', True)`\n",
      "  dataset['airline_sentiment'] = dataset['airline_sentiment'].replace(sentiment_mapping)\n"
     ]
    },
    {
     "data": {
      "text/html": [
       "<div>\n",
       "<style scoped>\n",
       "    .dataframe tbody tr th:only-of-type {\n",
       "        vertical-align: middle;\n",
       "    }\n",
       "\n",
       "    .dataframe tbody tr th {\n",
       "        vertical-align: top;\n",
       "    }\n",
       "\n",
       "    .dataframe thead th {\n",
       "        text-align: right;\n",
       "    }\n",
       "</style>\n",
       "<table border=\"1\" class=\"dataframe\">\n",
       "  <thead>\n",
       "    <tr style=\"text-align: right;\">\n",
       "      <th></th>\n",
       "      <th>tweet</th>\n",
       "      <th>label</th>\n",
       "    </tr>\n",
       "  </thead>\n",
       "  <tbody>\n",
       "    <tr>\n",
       "      <th>0</th>\n",
       "      <td>@VirginAmerica What @dhepburn said.</td>\n",
       "      <td>0</td>\n",
       "    </tr>\n",
       "    <tr>\n",
       "      <th>1</th>\n",
       "      <td>@VirginAmerica plus you've added commercials t...</td>\n",
       "      <td>1</td>\n",
       "    </tr>\n",
       "    <tr>\n",
       "      <th>2</th>\n",
       "      <td>@VirginAmerica I didn't today... Must mean I n...</td>\n",
       "      <td>0</td>\n",
       "    </tr>\n",
       "    <tr>\n",
       "      <th>3</th>\n",
       "      <td>@VirginAmerica it's really aggressive to blast...</td>\n",
       "      <td>2</td>\n",
       "    </tr>\n",
       "    <tr>\n",
       "      <th>4</th>\n",
       "      <td>@VirginAmerica and it's a really big bad thing...</td>\n",
       "      <td>2</td>\n",
       "    </tr>\n",
       "  </tbody>\n",
       "</table>\n",
       "</div>"
      ],
      "text/plain": [
       "                                               tweet  label\n",
       "0                @VirginAmerica What @dhepburn said.      0\n",
       "1  @VirginAmerica plus you've added commercials t...      1\n",
       "2  @VirginAmerica I didn't today... Must mean I n...      0\n",
       "3  @VirginAmerica it's really aggressive to blast...      2\n",
       "4  @VirginAmerica and it's a really big bad thing...      2"
      ]
     },
     "execution_count": 5,
     "metadata": {},
     "output_type": "execute_result"
    }
   ],
   "source": [
    "sentiment_mapping = {\n",
    "    'positive': 1,\n",
    "    'neutral': 0,\n",
    "    'negative': 2\n",
    "}\n",
    "\n",
    "dataset['airline_sentiment'] = dataset['airline_sentiment'].replace(sentiment_mapping)\n",
    "df = dataset\n",
    "df = df.rename(columns={'text': 'tweet', 'airline_sentiment': 'label'})\n",
    "df.head()"
   ]
  },
  {
   "cell_type": "code",
   "execution_count": 24,
   "metadata": {},
   "outputs": [
    {
     "data": {
      "image/png": "[encoded data removed]",
      "text/plain": [
       "<Figure size 800x400 with 1 Axes>"
      ]
     },
     "metadata": {},
     "output_type": "display_data"
    }
   ],
   "source": [
    "# Assuming 'df' is your DataFrame and 'label' is the column with numeric class labels\n",
    "# Map numeric labels to textual labels\n",
    "sentiment_mapping = {2: 'negative', 0: 'neutral', 1: 'positive'}\n",
    "df['textual_sentiment'] = df['label'].map(sentiment_mapping)\n",
    "\n",
    "class_counts = df['textual_sentiment'].value_counts()\n",
    "\n",
    "# Plotting\n",
    "plt.figure(figsize=(8, 4))\n",
    "class_counts.plot(kind='bar', color='skyblue')\n",
    "plt.title('Distribution of Sentiment Classes')\n",
    "plt.xlabel('Sentiment')\n",
    "plt.ylabel('Frequency')\n",
    "plt.xticks(rotation=0)  # Rotates the labels to be horizontal\n",
    "plt.show()"
   ]
  },
  {
   "cell_type": "code",
   "execution_count": 26,
   "metadata": {},
   "outputs": [],
   "source": [
    "data=list(zip(df['tweet'].tolist(), df['label'].tolist()))\n",
    "texts, labels = zip(*data)"
   ]
  },
  {
   "cell_type": "code",
   "execution_count": 27,
   "metadata": {},
   "outputs": [],
   "source": [
    "\n",
    "\n",
    "# Assuming 'texts' contains the text data and 'labels' contains the class labels\n",
    "train_texts, val_texts, train_labels, val_labels = train_test_split(\n",
    "    texts, labels, test_size=0.1, random_state=42, stratify=labels)  # Ensures stratified split"
   ]
  },
  {
   "cell_type": "code",
   "execution_count": 28,
   "metadata": {},
   "outputs": [
    {
     "data": {
      "image/png": "[encoded data removed]",
      "text/plain": [
       "<Figure size 1400x500 with 2 Axes>"
      ]
     },
     "metadata": {},
     "output_type": "display_data"
    }
   ],
   "source": [
    "\n",
    "\n",
    "# Convert labels to DataFrames for easy manipulation\n",
    "train_labels_df = pd.DataFrame(train_labels, columns=['label'])\n",
    "val_labels_df = pd.DataFrame(val_labels, columns=['label'])\n",
    "\n",
    "# Get the frequency of each class\n",
    "train_class_distribution = train_labels_df['label'].value_counts().sort_index()\n",
    "val_class_distribution = val_labels_df['label'].value_counts().sort_index()\n",
    "\n",
    "# Calculate normalized distribution for percentages\n",
    "train_class_distribution_normalized = train_class_distribution / train_class_distribution.sum()\n",
    "val_class_distribution_normalized = val_class_distribution / val_class_distribution.sum()\n",
    "\n",
    "# Create a plot\n",
    "fig, axes = plt.subplots(nrows=1, ncols=2, figsize=(14, 5))\n",
    "train_class_distribution_normalized.plot(kind='bar', ax=axes[0], color='blue', title='Training Set Class Distribution')\n",
    "val_class_distribution_normalized.plot(kind='bar', ax=axes[1], color='green', title='Validation Set Class Distribution')\n",
    "\n",
    "# Adding the count above the bars\n",
    "for ax, dist in zip(axes, [train_class_distribution, val_class_distribution]):\n",
    "    for i, p in enumerate(ax.patches):\n",
    "        count = dist.iloc[i]\n",
    "        # Annotation should be adjusted based on the bar's height to avoid overlap or misplacement\n",
    "        height = p.get_height()\n",
    "        ax.annotate(f'{count}', (p.get_x() + p.get_width() / 2., height),\n",
    "                    ha='center', va='center', xytext=(0, 10), textcoords='offset points')\n",
    "\n",
    "axes[0].set_ylabel('Frequency (%)')\n",
    "axes[0].set_xlabel('Class Label')\n",
    "axes[1].set_ylabel('Frequency (%)')\n",
    "axes[1].set_xlabel('Class Label')\n",
    "\n",
    "plt.tight_layout()\n",
    "plt.show()"
   ]
  },
  {
   "cell_type": "code",
   "execution_count": 30,
   "metadata": {},
   "outputs": [
    {
     "name": "stdout",
     "output_type": "stream",
     "text": [
      "Class weights: tensor([0.3775, 0.4950, 0.1275], device='mps:0')\n"
     ]
    }
   ],
   "source": [
    "import numpy as np\n",
    "# Convert labels to a numpy array if not already\n",
    "train_labels_np = np.array(train_labels)\n",
    "\n",
    "# Count the frequency of each class\n",
    "unique_classes, counts = np.unique(train_labels_np, return_counts=True)\n",
    "\n",
    "# Calculate class weights inversely proportional to class frequencies\n",
    "weights = 1.0 / counts\n",
    "\n",
    "# Normalize weights so that the sum equals the number of classes or to sum to 1\n",
    "weights = weights / weights.sum()\n",
    "\n",
    "# Convert weights to a tensor for use with PyTorch\n",
    "class_weights = torch.tensor(weights, dtype=torch.float,device=device)\n",
    "\n",
    "print(\"Class weights:\", class_weights)"
   ]
  },
  {
   "cell_type": "code",
   "execution_count": 31,
   "metadata": {},
   "outputs": [
    {
     "name": "stdout",
     "output_type": "stream",
     "text": [
      "Maximum length of tweets: 186\n"
     ]
    },
    {
     "data": {
      "image/png": "[encoded data removed]",
      "text/plain": [
       "<Figure size 1000x500 with 1 Axes>"
      ]
     },
     "metadata": {},
     "output_type": "display_data"
    }
   ],
   "source": [
    "\n",
    "# Assuming you have a DataFrame df with a column 'tweet' containing the text of the tweets\n",
    "df['tweet_length'] = df['tweet'].apply(len)\n",
    "\n",
    "# Print the maximum tweet length\n",
    "max_length = df['tweet_length'].max()\n",
    "print(\"Maximum length of tweets:\", max_length)\n",
    "\n",
    "# Plot the distribution of tweet lengths\n",
    "plt.figure(figsize=(10, 5))\n",
    "plt.hist(df['tweet_length'], bins=50, color='skyblue', alpha=0.7)\n",
    "plt.title('Distribution of Tweet Lengths')\n",
    "plt.xlabel('Length of Tweets')\n",
    "plt.ylabel('Frequency')\n",
    "plt.show()"
   ]
  },
  {
   "cell_type": "code",
   "execution_count": 32,
   "metadata": {},
   "outputs": [],
   "source": [
    "tokenizer = AutoTokenizer.from_pretrained(\"bert-base-uncased\")"
   ]
  },
  {
   "cell_type": "code",
   "execution_count": 34,
   "metadata": {},
   "outputs": [],
   "source": [
    "# # this is just creating list of tuples. Each tupe has (text, label)\n",
    "# data=list(zip(df['tweet'].tolist(), df['label'].tolist()))\n",
    "\n",
    "def tokenize_and_encode(texts, labels, max_length=200):\n",
    "    input_ids, attention_masks, labels_out = [], [], []\n",
    "    for text, label in zip(texts, labels):\n",
    "        encoded = tokenizer.encode_plus(\n",
    "            text, \n",
    "            max_length=max_length,    # Set to 200 based on distribution analysis\n",
    "            padding='max_length',     # Pads to `max_length`\n",
    "            truncation=True           # Truncates to `max_length`\n",
    "        )\n",
    "        input_ids.append(encoded['input_ids'])\n",
    "        attention_masks.append(encoded['attention_mask'])\n",
    "        labels_out.append(label)\n",
    "    return torch.tensor(input_ids), torch.tensor(attention_masks), torch.tensor(labels_out)\n",
    "\n",
    "# # seprate the tuples\n",
    "# # generate two lists: a) containing texts, b) containing labels\n",
    "# texts, labels = zip(*data)\n",
    "\n",
    "# # train, validation split\n",
    "# train_texts, val_texts, train_labels, val_labels = train_test_split(texts, labels, test_size=0.1)\n",
    "\n",
    "# tokenization\n",
    "train_input_ids, train_attention_masks, train_labels = tokenize_and_encode(train_texts, train_labels)\n",
    "val_input_ids, val_attention_masks, val_labels = tokenize_and_encode(val_texts, val_labels)\n",
    "\n",
    "\n"
   ]
  },
  {
   "cell_type": "code",
   "execution_count": 35,
   "metadata": {},
   "outputs": [
    {
     "name": "stdout",
     "output_type": "stream",
     "text": [
      "Train input_ids shape: torch.Size([13176, 200])\n",
      "Train attention_masks shape: torch.Size([13176, 200])\n",
      "Train labels shape: torch.Size([13176])\n",
      "Validation input_ids shape: torch.Size([1464, 200])\n",
      "Validation attention_masks shape: torch.Size([1464, 200])\n",
      "Validation labels shape: torch.Size([1464])\n"
     ]
    }
   ],
   "source": [
    "print(\"Train input_ids shape:\", train_input_ids.shape)\n",
    "print(\"Train attention_masks shape:\", train_attention_masks.shape)\n",
    "print(\"Train labels shape:\", train_labels.shape)\n",
    "print(\"Validation input_ids shape:\", val_input_ids.shape)\n",
    "print(\"Validation attention_masks shape:\", val_attention_masks.shape)\n",
    "print(\"Validation labels shape:\", val_labels.shape)\n"
   ]
  },
  {
   "cell_type": "code",
   "execution_count": 36,
   "metadata": {},
   "outputs": [
    {
     "name": "stdout",
     "output_type": "stream",
     "text": [
      "train_input_ids  torch.Size([200]) tensor([  101,  1030,  3915,  4313, 14035,  5667,  1029,  1029,  1029,  2106,\n",
      "         2017,  2025,  2156,  2008,  1045,  1005,  2310,  2985,  1016,  2420,\n",
      "         1011,  2005,  3674,  2847,  2006,  2907,  2074,  2000,  2031,  2000,\n",
      "         6865,  2039,  2044,  1996,  2847,  1029,   102,     0,     0,     0,\n",
      "            0,     0,     0,     0,     0,     0,     0,     0,     0,     0,\n",
      "            0,     0,     0,     0,     0,     0,     0,     0,     0,     0,\n",
      "            0,     0,     0,     0,     0,     0,     0,     0,     0,     0,\n",
      "            0,     0,     0,     0,     0,     0,     0,     0,     0,     0,\n",
      "            0,     0,     0,     0,     0,     0,     0,     0,     0,     0,\n",
      "            0,     0,     0,     0,     0,     0,     0,     0,     0,     0,\n",
      "            0,     0,     0,     0,     0,     0,     0,     0,     0,     0,\n",
      "            0,     0,     0,     0,     0,     0,     0,     0,     0,     0,\n",
      "            0,     0,     0,     0,     0,     0,     0,     0,     0,     0,\n",
      "            0,     0,     0,     0,     0,     0,     0,     0,     0,     0,\n",
      "            0,     0,     0,     0,     0,     0,     0,     0,     0,     0,\n",
      "            0,     0,     0,     0,     0,     0,     0,     0,     0,     0,\n",
      "            0,     0,     0,     0,     0,     0,     0,     0,     0,     0,\n",
      "            0,     0,     0,     0,     0,     0,     0,     0,     0,     0,\n",
      "            0,     0,     0,     0,     0,     0,     0,     0,     0,     0,\n",
      "            0,     0,     0,     0,     0,     0,     0,     0,     0,     0]) \n",
      "train_attention_masks  tensor([1, 1, 1, 1, 1, 1, 1, 1, 1, 1, 1, 1, 1, 1, 1, 1, 1, 1, 1, 1, 1, 1, 1, 1,\n",
      "        1, 1, 1, 1, 1, 1, 1, 1, 1, 1, 1, 1, 1, 0, 0, 0, 0, 0, 0, 0, 0, 0, 0, 0,\n",
      "        0, 0, 0, 0, 0, 0, 0, 0, 0, 0, 0, 0, 0, 0, 0, 0, 0, 0, 0, 0, 0, 0, 0, 0,\n",
      "        0, 0, 0, 0, 0, 0, 0, 0, 0, 0, 0, 0, 0, 0, 0, 0, 0, 0, 0, 0, 0, 0, 0, 0,\n",
      "        0, 0, 0, 0, 0, 0, 0, 0, 0, 0, 0, 0, 0, 0, 0, 0, 0, 0, 0, 0, 0, 0, 0, 0,\n",
      "        0, 0, 0, 0, 0, 0, 0, 0, 0, 0, 0, 0, 0, 0, 0, 0, 0, 0, 0, 0, 0, 0, 0, 0,\n",
      "        0, 0, 0, 0, 0, 0, 0, 0, 0, 0, 0, 0, 0, 0, 0, 0, 0, 0, 0, 0, 0, 0, 0, 0,\n",
      "        0, 0, 0, 0, 0, 0, 0, 0, 0, 0, 0, 0, 0, 0, 0, 0, 0, 0, 0, 0, 0, 0, 0, 0,\n",
      "        0, 0, 0, 0, 0, 0, 0, 0]) tensor([1, 1, 1, 1, 1, 1, 1, 1, 1, 1, 1, 1, 1, 1, 1, 1, 1, 1, 1, 1, 1, 1, 1, 1,\n",
      "        1, 1, 1, 1, 1, 1, 1, 1, 1, 1, 1, 1, 1, 0, 0, 0, 0, 0, 0, 0, 0, 0, 0, 0,\n",
      "        0, 0, 0, 0, 0, 0, 0, 0, 0, 0, 0, 0, 0, 0, 0, 0, 0, 0, 0, 0, 0, 0, 0, 0,\n",
      "        0, 0, 0, 0, 0, 0, 0, 0, 0, 0, 0, 0, 0, 0, 0, 0, 0, 0, 0, 0, 0, 0, 0, 0,\n",
      "        0, 0, 0, 0, 0, 0, 0, 0, 0, 0, 0, 0, 0, 0, 0, 0, 0, 0, 0, 0, 0, 0, 0, 0,\n",
      "        0, 0, 0, 0, 0, 0, 0, 0, 0, 0, 0, 0, 0, 0, 0, 0, 0, 0, 0, 0, 0, 0, 0, 0,\n",
      "        0, 0, 0, 0, 0, 0, 0, 0, 0, 0, 0, 0, 0, 0, 0, 0, 0, 0, 0, 0, 0, 0, 0, 0,\n",
      "        0, 0, 0, 0, 0, 0, 0, 0, 0, 0, 0, 0, 0, 0, 0, 0, 0, 0, 0, 0, 0, 0, 0, 0,\n",
      "        0, 0, 0, 0, 0, 0, 0, 0]) \n",
      "train_labels tensor(2)\n"
     ]
    }
   ],
   "source": [
    "print('train_input_ids ',train_input_ids[0].shape ,train_input_ids[0], '\\n'\n",
    "      'train_attention_masks ', train_attention_masks[0] ,train_attention_masks[0], '\\n'\n",
    "      'train_labels', train_labels[0])"
   ]
  },
  {
   "cell_type": "code",
   "execution_count": 37,
   "metadata": {},
   "outputs": [],
   "source": [
    "class TextClassificationDataset(torch.utils.data.Dataset):\n",
    "    def __init__(self, input_ids, attention_masks, labels, num_classes=3):\n",
    "        self.input_ids = input_ids\n",
    "        self.attention_masks = attention_masks\n",
    "        self.labels = labels\n",
    "        self.num_classes = num_classes\n",
    "        self.one_hot_labels = self.one_hot_encode(labels, num_classes)\n",
    "\n",
    "    def __len__(self):\n",
    "        return len(self.input_ids)\n",
    "\n",
    "    def __getitem__(self, idx):\n",
    "        return {\n",
    "            'input_ids': self.input_ids[idx],\n",
    "            'attention_mask': self.attention_masks[idx],\n",
    "            'labels': self.one_hot_labels[idx]\n",
    "        }\n",
    "\n",
    "\n",
    "    @staticmethod\n",
    "    def one_hot_encode(targets, num_classes):\n",
    "        targets = targets.long()\n",
    "        one_hot_targets = torch.zeros(targets.size(0), num_classes)\n",
    "        one_hot_targets.scatter_(1, targets.unsqueeze(1), 1.0)\n",
    "        return one_hot_targets\n",
    "        \n",
    "\n",
    "train_dataset = TextClassificationDataset(train_input_ids, train_attention_masks, train_labels)\n",
    "val_dataset = TextClassificationDataset(val_input_ids, val_attention_masks, val_labels)\n"
   ]
  },
  {
   "cell_type": "code",
   "execution_count": 38,
   "metadata": {},
   "outputs": [],
   "source": [
    "train_dataloader = DataLoader(train_dataset, batch_size=8, shuffle=True)\n",
    "eval_dataloader = DataLoader(val_dataset, batch_size=8)"
   ]
  },
  {
   "cell_type": "code",
   "execution_count": 39,
   "metadata": {},
   "outputs": [
    {
     "name": "stdout",
     "output_type": "stream",
     "text": [
      "13176\n"
     ]
    },
    {
     "data": {
      "text/plain": [
       "1464"
      ]
     },
     "execution_count": 39,
     "metadata": {},
     "output_type": "execute_result"
    }
   ],
   "source": [
    "print(len(train_dataset))\n",
    "len((val_dataset))"
   ]
  },
  {
   "cell_type": "code",
   "execution_count": 42,
   "metadata": {},
   "outputs": [
    {
     "name": "stdout",
     "output_type": "stream",
     "text": [
      "item_ids,  torch.Size([8, 200]) \n",
      " item_mask,  torch.Size([8, 200]) \n",
      " item_labels,  torch.Size([8, 3]) \n",
      "\n"
     ]
    }
   ],
   "source": [
    "item=next(iter(train_dataloader))\n",
    "item_ids,item_mask,item_labels=item['input_ids'],item['attention_mask'],item['labels']\n",
    "print ('item_ids, ',item_ids.shape, '\\n',\n",
    "       'item_mask, ',item_mask.shape, '\\n',\n",
    "       'item_labels, ',item_labels.shape, '\\n',)"
   ]
  },
  {
   "cell_type": "code",
   "execution_count": 43,
   "metadata": {},
   "outputs": [
    {
     "name": "stderr",
     "output_type": "stream",
     "text": [
      "A parameter name that contains `beta` will be renamed internally to `bias`. Please use a different name to suppress this warning.\n",
      "A parameter name that contains `gamma` will be renamed internally to `weight`. Please use a different name to suppress this warning.\n",
      "A parameter name that contains `beta` will be renamed internally to `bias`. Please use a different name to suppress this warning.\n",
      "A parameter name that contains `gamma` will be renamed internally to `weight`. Please use a different name to suppress this warning.\n",
      "A parameter name that contains `beta` will be renamed internally to `bias`. Please use a different name to suppress this warning.\n",
      "A parameter name that contains `gamma` will be renamed internally to `weight`. Please use a different name to suppress this warning.\n",
      "A parameter name that contains `beta` will be renamed internally to `bias`. Please use a different name to suppress this warning.\n",
      "A parameter name that contains `gamma` will be renamed internally to `weight`. Please use a different name to suppress this warning.\n",
      "A parameter name that contains `beta` will be renamed internally to `bias`. Please use a different name to suppress this warning.\n",
      "A parameter name that contains `gamma` will be renamed internally to `weight`. Please use a different name to suppress this warning.\n",
      "A parameter name that contains `beta` will be renamed internally to `bias`. Please use a different name to suppress this warning.\n",
      "A parameter name that contains `gamma` will be renamed internally to `weight`. Please use a different name to suppress this warning.\n",
      "A parameter name that contains `beta` will be renamed internally to `bias`. Please use a different name to suppress this warning.\n",
      "A parameter name that contains `gamma` will be renamed internally to `weight`. Please use a different name to suppress this warning.\n",
      "A parameter name that contains `beta` will be renamed internally to `bias`. Please use a different name to suppress this warning.\n",
      "A parameter name that contains `gamma` will be renamed internally to `weight`. Please use a different name to suppress this warning.\n",
      "A parameter name that contains `beta` will be renamed internally to `bias`. Please use a different name to suppress this warning.\n",
      "A parameter name that contains `gamma` will be renamed internally to `weight`. Please use a different name to suppress this warning.\n",
      "A parameter name that contains `beta` will be renamed internally to `bias`. Please use a different name to suppress this warning.\n",
      "A parameter name that contains `gamma` will be renamed internally to `weight`. Please use a different name to suppress this warning.\n",
      "A parameter name that contains `beta` will be renamed internally to `bias`. Please use a different name to suppress this warning.\n",
      "A parameter name that contains `gamma` will be renamed internally to `weight`. Please use a different name to suppress this warning.\n",
      "A parameter name that contains `beta` will be renamed internally to `bias`. Please use a different name to suppress this warning.\n",
      "A parameter name that contains `gamma` will be renamed internally to `weight`. Please use a different name to suppress this warning.\n",
      "A parameter name that contains `beta` will be renamed internally to `bias`. Please use a different name to suppress this warning.\n",
      "A parameter name that contains `gamma` will be renamed internally to `weight`. Please use a different name to suppress this warning.\n",
      "A parameter name that contains `beta` will be renamed internally to `bias`. Please use a different name to suppress this warning.\n",
      "A parameter name that contains `gamma` will be renamed internally to `weight`. Please use a different name to suppress this warning.\n",
      "A parameter name that contains `beta` will be renamed internally to `bias`. Please use a different name to suppress this warning.\n",
      "A parameter name that contains `gamma` will be renamed internally to `weight`. Please use a different name to suppress this warning.\n",
      "A parameter name that contains `beta` will be renamed internally to `bias`. Please use a different name to suppress this warning.\n",
      "A parameter name that contains `gamma` will be renamed internally to `weight`. Please use a different name to suppress this warning.\n",
      "A parameter name that contains `beta` will be renamed internally to `bias`. Please use a different name to suppress this warning.\n",
      "A parameter name that contains `gamma` will be renamed internally to `weight`. Please use a different name to suppress this warning.\n",
      "A parameter name that contains `beta` will be renamed internally to `bias`. Please use a different name to suppress this warning.\n",
      "A parameter name that contains `gamma` will be renamed internally to `weight`. Please use a different name to suppress this warning.\n",
      "A parameter name that contains `beta` will be renamed internally to `bias`. Please use a different name to suppress this warning.\n",
      "A parameter name that contains `gamma` will be renamed internally to `weight`. Please use a different name to suppress this warning.\n",
      "A parameter name that contains `beta` will be renamed internally to `bias`. Please use a different name to suppress this warning.\n",
      "A parameter name that contains `gamma` will be renamed internally to `weight`. Please use a different name to suppress this warning.\n",
      "A parameter name that contains `beta` will be renamed internally to `bias`. Please use a different name to suppress this warning.\n",
      "A parameter name that contains `gamma` will be renamed internally to `weight`. Please use a different name to suppress this warning.\n",
      "A parameter name that contains `beta` will be renamed internally to `bias`. Please use a different name to suppress this warning.\n",
      "A parameter name that contains `gamma` will be renamed internally to `weight`. Please use a different name to suppress this warning.\n",
      "A parameter name that contains `beta` will be renamed internally to `bias`. Please use a different name to suppress this warning.\n",
      "A parameter name that contains `gamma` will be renamed internally to `weight`. Please use a different name to suppress this warning.\n",
      "A parameter name that contains `beta` will be renamed internally to `bias`. Please use a different name to suppress this warning.\n",
      "A parameter name that contains `gamma` will be renamed internally to `weight`. Please use a different name to suppress this warning.\n",
      "A parameter name that contains `beta` will be renamed internally to `bias`. Please use a different name to suppress this warning.\n",
      "A parameter name that contains `gamma` will be renamed internally to `weight`. Please use a different name to suppress this warning.\n",
      "A parameter name that contains `beta` will be renamed internally to `bias`. Please use a different name to suppress this warning.\n",
      "A parameter name that contains `gamma` will be renamed internally to `weight`. Please use a different name to suppress this warning.\n",
      "Some weights of BertForSequenceClassification were not initialized from the model checkpoint at bert-base-uncased and are newly initialized: ['classifier.bias', 'classifier.weight']\n",
      "You should probably TRAIN this model on a down-stream task to be able to use it for predictions and inference.\n",
      "/opt/anaconda3/envs/tf-metal-env/lib/python3.9/site-packages/transformers/optimization.py:591: FutureWarning: This implementation of AdamW is deprecated and will be removed in a future version. Use the PyTorch implementation torch.optim.AdamW instead, or set `no_deprecation_warning=True` to disable this warning\n",
      "  warnings.warn(\n"
     ]
    }
   ],
   "source": [
    "\n",
    "model = AutoModelForSequenceClassification.from_pretrained(\"bert-base-uncased\", num_labels=3)\n",
    "loss_fn = nn.CrossEntropyLoss(weight=class_weights)\n",
    "optimizer = AdamW(model.parameters(), lr=5e-5)"
   ]
  },
  {
   "cell_type": "code",
   "execution_count": 44,
   "metadata": {},
   "outputs": [],
   "source": [
    "# Prepare the model and optimizer\n",
    "accelerator = Accelerator()\n",
    "model, optimizer, train_dataloader, eval_dataloader = accelerator.prepare(\n",
    "    model, optimizer, train_dataloader, eval_dataloader\n",
    ")\n"
   ]
  },
  {
   "cell_type": "code",
   "execution_count": 45,
   "metadata": {},
   "outputs": [
    {
     "name": "stderr",
     "output_type": "stream",
     "text": [
      "huggingface/tokenizers: The current process just got forked, after parallelism has already been used. Disabling parallelism to avoid deadlocks...\n",
      "To disable this warning, you can either:\n",
      "\t- Avoid using `tokenizers` before the fork if possible\n",
      "Epoch 1/2:   0%|          | 0/1647 [00:00<?, ?batch/s]TOKENIZERS_PARALLELISM=(true | false)\n"
     ]
    },
    {
     "name": "stdout",
     "output_type": "stream",
     "text": [
      "training started\n"
     ]
    },
    {
     "name": "stderr",
     "output_type": "stream",
     "text": [
      "Epoch 1/2: 100%|██████████| 1647/1647 [09:24<00:00,  2.92batch/s]\n"
     ]
    },
    {
     "name": "stdout",
     "output_type": "stream",
     "text": [
      "Training Loss after Epoch 1: 0.1377007141856349\n",
      "Validation started\n",
      "Validation Results - Epoch 1/2:\n",
      "Validation Loss: 0.1096745663286884\n",
      "Accuracy: 0.7903005464480874, F1 Score: 0.8005353199897579, Recall: 0.7903005464480874, Precision: 0.8424154999847375\n"
     ]
    },
    {
     "name": "stderr",
     "output_type": "stream",
     "text": [
      "Epoch 2/2:   0%|          | 0/1647 [00:00<?, ?batch/s]"
     ]
    },
    {
     "name": "stdout",
     "output_type": "stream",
     "text": [
      "training started\n"
     ]
    },
    {
     "name": "stderr",
     "output_type": "stream",
     "text": [
      "Epoch 2/2: 100%|██████████| 1647/1647 [09:19<00:00,  2.94batch/s]\n"
     ]
    },
    {
     "name": "stdout",
     "output_type": "stream",
     "text": [
      "Training Loss after Epoch 2: 0.07242079818978653\n",
      "Validation started\n",
      "Validation Results - Epoch 2/2:\n",
      "Validation Loss: 0.11252041171493182\n",
      "Accuracy: 0.8456284153005464, F1 Score: 0.8494870921166335, Recall: 0.8456284153005464, Precision: 0.857326367231953\n"
     ]
    }
   ],
   "source": [
    "# Setup\n",
    "num_epochs = 2\n",
    "num_training_steps = num_epochs * len(train_dataloader)\n",
    "lr_scheduler = get_scheduler(\n",
    "      \"linear\",\n",
    "      optimizer=optimizer,\n",
    "      num_warmup_steps=0,\n",
    "      num_training_steps=num_training_steps\n",
    ")\n",
    "\n",
    "# Lists to store losses and metrics\n",
    "training_losses = []\n",
    "validation_losses = []\n",
    "\n",
    "\n",
    "\n",
    "# Training and Evaluation Loop\n",
    "for epoch in range(num_epochs):\n",
    "    model.train()\n",
    "    batch_losses = []\n",
    "    progress_bar = tqdm(total=len(train_dataloader), desc=f'Epoch {epoch + 1}/{num_epochs}', unit='batch')\n",
    "\n",
    "    print(\"training started\")\n",
    "\n",
    "    for i,batch in enumerate(train_dataloader):\n",
    "        # print(\"batch \", i+1)\n",
    "        # print(\"...\",end=\"\")\n",
    "        outputs = model(**batch)\n",
    "        # loss = outputs.loss\n",
    "        loss = loss_fn(outputs.logits, batch['labels']) \n",
    "\n",
    "        # Backpropagation\n",
    "        accelerator.backward(loss)\n",
    "        optimizer.step()\n",
    "        lr_scheduler.step()\n",
    "        optimizer.zero_grad()\n",
    "\n",
    "        # Collect loss data\n",
    "        batch_losses.append(loss.item())\n",
    "        progress_bar.update(1)\n",
    "\n",
    "    progress_bar.close()\n",
    "\n",
    "    # Reporting average training loss after each epoch\n",
    "    epoch_training_loss = sum(batch_losses) / len(batch_losses)\n",
    "    training_losses.append(epoch_training_loss)\n",
    "    print(f\"Training Loss after Epoch {epoch + 1}: {epoch_training_loss}\")\n",
    "\n",
    "    # Evaluation\n",
    "    model.eval()\n",
    "    preds = []\n",
    "    out_label_ids = []\n",
    "    batch_val_losses = []\n",
    "\n",
    "\n",
    "    print(\"Validation started\")\n",
    "\n",
    "    for batch in eval_dataloader:\n",
    "        with torch.no_grad():\n",
    "            inputs = {k: v.to(device) for k, v in batch.items()}\n",
    "            outputs = model(**inputs)\n",
    "            logits = outputs.logits\n",
    "            val_loss = loss_fn(outputs.logits, batch['labels']) \n",
    "            # val_loss = outputs.loss\n",
    "\n",
    "            # Collect validation data\n",
    "            # Convert logits to predicted class indices for comparison\n",
    "            predicted_labels = torch.argmax(logits.detach().cpu(), dim=1).numpy()\n",
    "            \n",
    "            # Assuming batch['labels'] is one-hot encoded, convert it to class indices\n",
    "            true_labels = torch.argmax(batch['labels'], dim=1).cpu().numpy()\n",
    "            \n",
    "            preds.extend(predicted_labels)\n",
    "            out_label_ids.extend(true_labels)\n",
    "            batch_val_losses.append(val_loss.item())\n",
    "\n",
    "    # Reporting average validation loss and metrics\n",
    "    epoch_validation_loss = sum(batch_val_losses) / len(batch_val_losses)\n",
    "    validation_losses.append(epoch_validation_loss)\n",
    "\n",
    "    accuracy = accuracy_score(out_label_ids, preds)\n",
    "    f1 = f1_score(out_label_ids, preds, average='weighted')\n",
    "    recall = recall_score(out_label_ids, preds, average='weighted')\n",
    "    precision = precision_score(out_label_ids, preds, average='weighted')\n",
    "\n",
    "    print(f\"Validation Results - Epoch {epoch + 1}/{num_epochs}:\")\n",
    "    print(f\"Validation Loss: {epoch_validation_loss}\")\n",
    "    print(f\"Accuracy: {accuracy}, F1 Score: {f1}, Recall: {recall}, Precision: {precision}\")"
   ]
  },
  {
   "cell_type": "code",
   "execution_count": 48,
   "metadata": {},
   "outputs": [
    {
     "data": {
      "text/plain": [
       "('model/tokenizer_config.json',\n",
       " 'model/special_tokens_map.json',\n",
       " 'model/vocab.txt',\n",
       " 'model/added_tokens.json',\n",
       " 'model/tokenizer.json')"
      ]
     },
     "execution_count": 48,
     "metadata": {},
     "output_type": "execute_result"
    }
   ],
   "source": [
    "# Using PyTorch's torch.save to save the model state_dict\n",
    "torch.save(model.state_dict(), 'model_state_dict.pt')\n",
    "\n",
    "# Alternatively, using save_pretrained from the transformers library (recommended)\n",
    "model.save_pretrained('model/')  # Saves configuration file and model weights\n",
    "tokenizer.save_pretrained('model/')  # Saves tokenizer config and vocabulary"
   ]
  },
  {
   "cell_type": "code",
   "execution_count": 46,
   "metadata": {},
   "outputs": [],
   "source": [
    "import matplotlib.pyplot as plt\n",
    "from sklearn.metrics import confusion_matrix\n",
    "import seaborn as sns  # For a nicer heatmap visualization"
   ]
  },
  {
   "cell_type": "code",
   "execution_count": 59,
   "metadata": {},
   "outputs": [
    {
     "data": {
      "image/png": "[encoded data removed]",
      "text/plain": [
       "<Figure size 1000x700 with 2 Axes>"
      ]
     },
     "metadata": {},
     "output_type": "display_data"
    }
   ],
   "source": [
    "# Assuming out_label_ids and preds are your lists of labels and predictions\n",
    "cm = confusion_matrix(out_label_ids, preds)\n",
    "plt.figure(figsize=(10, 7))\n",
    "sns.heatmap(cm, annot=True, fmt='g', cmap='Blues', xticklabels=['neutral', 'positive', 'negative'] , yticklabels=['neutral', 'positive', 'negative'] )\n",
    "plt.xlabel('Predicted labels')\n",
    "plt.ylabel('True labels')\n",
    "plt.title('Confusion Matrix')\n",
    "plt.show()"
   ]
  },
  {
   "cell_type": "code",
   "execution_count": 49,
   "metadata": {},
   "outputs": [
    {
     "name": "stderr",
     "output_type": "stream",
     "text": [
      "A parameter name that contains `beta` will be renamed internally to `bias`. Please use a different name to suppress this warning.\n",
      "A parameter name that contains `gamma` will be renamed internally to `weight`. Please use a different name to suppress this warning.\n",
      "A parameter name that contains `beta` will be renamed internally to `bias`. Please use a different name to suppress this warning.\n",
      "A parameter name that contains `gamma` will be renamed internally to `weight`. Please use a different name to suppress this warning.\n",
      "A parameter name that contains `beta` will be renamed internally to `bias`. Please use a different name to suppress this warning.\n",
      "A parameter name that contains `gamma` will be renamed internally to `weight`. Please use a different name to suppress this warning.\n",
      "A parameter name that contains `beta` will be renamed internally to `bias`. Please use a different name to suppress this warning.\n",
      "A parameter name that contains `gamma` will be renamed internally to `weight`. Please use a different name to suppress this warning.\n",
      "A parameter name that contains `beta` will be renamed internally to `bias`. Please use a different name to suppress this warning.\n",
      "A parameter name that contains `gamma` will be renamed internally to `weight`. Please use a different name to suppress this warning.\n",
      "A parameter name that contains `beta` will be renamed internally to `bias`. Please use a different name to suppress this warning.\n",
      "A parameter name that contains `gamma` will be renamed internally to `weight`. Please use a different name to suppress this warning.\n",
      "A parameter name that contains `beta` will be renamed internally to `bias`. Please use a different name to suppress this warning.\n",
      "A parameter name that contains `gamma` will be renamed internally to `weight`. Please use a different name to suppress this warning.\n",
      "A parameter name that contains `beta` will be renamed internally to `bias`. Please use a different name to suppress this warning.\n",
      "A parameter name that contains `gamma` will be renamed internally to `weight`. Please use a different name to suppress this warning.\n",
      "A parameter name that contains `beta` will be renamed internally to `bias`. Please use a different name to suppress this warning.\n",
      "A parameter name that contains `gamma` will be renamed internally to `weight`. Please use a different name to suppress this warning.\n",
      "A parameter name that contains `beta` will be renamed internally to `bias`. Please use a different name to suppress this warning.\n",
      "A parameter name that contains `gamma` will be renamed internally to `weight`. Please use a different name to suppress this warning.\n",
      "A parameter name that contains `beta` will be renamed internally to `bias`. Please use a different name to suppress this warning.\n",
      "A parameter name that contains `gamma` will be renamed internally to `weight`. Please use a different name to suppress this warning.\n",
      "A parameter name that contains `beta` will be renamed internally to `bias`. Please use a different name to suppress this warning.\n",
      "A parameter name that contains `gamma` will be renamed internally to `weight`. Please use a different name to suppress this warning.\n",
      "A parameter name that contains `beta` will be renamed internally to `bias`. Please use a different name to suppress this warning.\n",
      "A parameter name that contains `gamma` will be renamed internally to `weight`. Please use a different name to suppress this warning.\n",
      "A parameter name that contains `beta` will be renamed internally to `bias`. Please use a different name to suppress this warning.\n",
      "A parameter name that contains `gamma` will be renamed internally to `weight`. Please use a different name to suppress this warning.\n",
      "A parameter name that contains `beta` will be renamed internally to `bias`. Please use a different name to suppress this warning.\n",
      "A parameter name that contains `gamma` will be renamed internally to `weight`. Please use a different name to suppress this warning.\n",
      "A parameter name that contains `beta` will be renamed internally to `bias`. Please use a different name to suppress this warning.\n",
      "A parameter name that contains `gamma` will be renamed internally to `weight`. Please use a different name to suppress this warning.\n",
      "A parameter name that contains `beta` will be renamed internally to `bias`. Please use a different name to suppress this warning.\n",
      "A parameter name that contains `gamma` will be renamed internally to `weight`. Please use a different name to suppress this warning.\n",
      "A parameter name that contains `beta` will be renamed internally to `bias`. Please use a different name to suppress this warning.\n",
      "A parameter name that contains `gamma` will be renamed internally to `weight`. Please use a different name to suppress this warning.\n",
      "A parameter name that contains `beta` will be renamed internally to `bias`. Please use a different name to suppress this warning.\n",
      "A parameter name that contains `gamma` will be renamed internally to `weight`. Please use a different name to suppress this warning.\n",
      "A parameter name that contains `beta` will be renamed internally to `bias`. Please use a different name to suppress this warning.\n",
      "A parameter name that contains `gamma` will be renamed internally to `weight`. Please use a different name to suppress this warning.\n",
      "A parameter name that contains `beta` will be renamed internally to `bias`. Please use a different name to suppress this warning.\n",
      "A parameter name that contains `gamma` will be renamed internally to `weight`. Please use a different name to suppress this warning.\n",
      "A parameter name that contains `beta` will be renamed internally to `bias`. Please use a different name to suppress this warning.\n",
      "A parameter name that contains `gamma` will be renamed internally to `weight`. Please use a different name to suppress this warning.\n",
      "A parameter name that contains `beta` will be renamed internally to `bias`. Please use a different name to suppress this warning.\n",
      "A parameter name that contains `gamma` will be renamed internally to `weight`. Please use a different name to suppress this warning.\n",
      "A parameter name that contains `beta` will be renamed internally to `bias`. Please use a different name to suppress this warning.\n",
      "A parameter name that contains `gamma` will be renamed internally to `weight`. Please use a different name to suppress this warning.\n",
      "A parameter name that contains `beta` will be renamed internally to `bias`. Please use a different name to suppress this warning.\n",
      "A parameter name that contains `gamma` will be renamed internally to `weight`. Please use a different name to suppress this warning.\n",
      "A parameter name that contains `beta` will be renamed internally to `bias`. Please use a different name to suppress this warning.\n",
      "A parameter name that contains `gamma` will be renamed internally to `weight`. Please use a different name to suppress this warning.\n",
      "Some weights of BertForSequenceClassification were not initialized from the model checkpoint at bert-base-uncased and are newly initialized: ['classifier.bias', 'classifier.weight']\n",
      "You should probably TRAIN this model on a down-stream task to be able to use it for predictions and inference.\n",
      "/var/folders/4j/f9p0tjqj1ql3bytxkr213dn40000gn/T/ipykernel_46052/2932731470.py:5: FutureWarning: You are using `torch.load` with `weights_only=False` (the current default value), which uses the default pickle module implicitly. It is possible to construct malicious pickle data which will execute arbitrary code during unpickling (See https://github.com/pytorch/pytorch/blob/main/SECURITY.md#untrusted-models for more details). In a future release, the default value for `weights_only` will be flipped to `True`. This limits the functions that could be executed during unpickling. Arbitrary objects will no longer be allowed to be loaded via this mode unless they are explicitly allowlisted by the user via `torch.serialization.add_safe_globals`. We recommend you start setting `weights_only=True` for any use case where you don't have full control of the loaded file. Please open an issue on GitHub for any issues related to this experimental feature.\n",
      "  model.load_state_dict(torch.load('model_state_dict.pt'))\n"
     ]
    }
   ],
   "source": [
    "from transformers import AutoModelForSequenceClassification, AutoTokenizer\n",
    "\n",
    "# If you saved with torch.save for state_dict\n",
    "model = AutoModelForSequenceClassification.from_pretrained(\"bert-base-uncased\", num_labels=3)  # Ensure num_labels matches your training setup\n",
    "model.load_state_dict(torch.load('model_state_dict.pt'))\n",
    "model.eval()  # Set to evaluation mode\n",
    "\n",
    "# If you used save_pretrained\n",
    "model = AutoModelForSequenceClassification.from_pretrained('model/')\n",
    "tokenizer = AutoTokenizer.from_pretrained('model/')"
   ]
  },
  {
   "cell_type": "code",
   "execution_count": 58,
   "metadata": {},
   "outputs": [
    {
     "name": "stdout",
     "output_type": "stream",
     "text": [
      "Tweet: This flight was incredible, excellent service!\n",
      "Predicted Sentiment: positive, Probabilities: [[0.00371296 0.99491465 0.00137239]]\n",
      "\n",
      "Tweet: The flight was okay.\n",
      "Predicted Sentiment: neutral, Probabilities: [[0.5683631  0.3891902  0.04244675]]\n",
      "\n",
      "Tweet: Horrible flight experience, will never fly with them again!\n",
      "Predicted Sentiment: negative, Probabilities: [[0.01026245 0.00273733 0.98700017]]\n",
      "\n",
      "Tweet: Flight was delayed but the staff handled it well.\n",
      "Predicted Sentiment: positive, Probabilities: [[0.01292093 0.95004636 0.03703271]]\n",
      "\n",
      "Tweet: Never had a worse flight, terrible food and rude staff!\n",
      "Predicted Sentiment: negative, Probabilities: [[0.00508581 0.00221362 0.9927005 ]]\n",
      "\n"
     ]
    }
   ],
   "source": [
    "def predict_sentiment(text):\n",
    "    # Encode the text using the provided tokenizer\n",
    "    encoded_review = tokenizer.encode_plus(\n",
    "        text,\n",
    "        max_length=200,  # ensure the same max_length as during training\n",
    "        add_special_tokens=True,\n",
    "        return_token_type_ids=False,\n",
    "        padding='max_length',\n",
    "        return_attention_mask=True,\n",
    "        truncation=True,\n",
    "        return_tensors='pt',  # Return PyTorch tensors\n",
    "    )\n",
    "    \n",
    "    # Move the tensors to the appropriate device\n",
    "    input_ids = encoded_review['input_ids'].to(device)\n",
    "    attention_mask = encoded_review['attention_mask'].to(device)\n",
    "\n",
    "    # Model in evaluation mode\n",
    "    model.eval()\n",
    "    \n",
    "    # No need to compute gradients\n",
    "    with torch.no_grad():\n",
    "        # Forward pass, get logits\n",
    "        outputs = model(input_ids, attention_mask=attention_mask)\n",
    "        logits = outputs.logits\n",
    "\n",
    "    # Compute softmax to get probabilities from logits\n",
    "    probabilities = torch.nn.functional.softmax(logits, dim=1)\n",
    "    # Get the predicted class index\n",
    "    predicted_class = torch.argmax(probabilities, dim=1).cpu().numpy()[0]\n",
    "\n",
    "    # Map the class index to label\n",
    "    labels = ['neutral', 'positive', 'negative']  # adjusted to match your training labels\n",
    "    predicted_label = labels[predicted_class]\n",
    "    \n",
    "    return predicted_label, probabilities.cpu().numpy()\n",
    "\n",
    "# # Example usage:\n",
    "# tokenizer = AutoTokenizer.from_pretrained(\"bert-base-uncased\")\n",
    "\n",
    "example_tweets = [\n",
    "    \"This flight was incredible, excellent service!\",\n",
    "    \"The flight was okay.\",\n",
    "    \"Horrible flight experience, will never fly with them again!\",\n",
    "    \"Flight was delayed but the staff handled it well.\",\n",
    "    \"Never had a worse flight, terrible food and rude staff!\"\n",
    "]\n",
    "\n",
    "# Evaluate each tweet\n",
    "for tweet in example_tweets:\n",
    "    predicted_label, probabilities = predict_sentiment(tweet)\n",
    "    print(f\"Tweet: {tweet}\\nPredicted Sentiment: {predicted_label}, Probabilities: {probabilities}\\n\")"
   ]
  }
 ],
 "metadata": {
  "kernelspec": {
   "display_name": "tf-metal-env",
   "language": "python",
   "name": "python3"
  },
  "language_info": {
   "codemirror_mode": {
    "name": "ipython",
    "version": 3
   },
   "file_extension": ".py",
   "mimetype": "text/x-python",
   "name": "python",
   "nbconvert_exporter": "python",
   "pygments_lexer": "ipython3",
   "version": "3.9.19"
  }
 },
 "nbformat": 4,
 "nbformat_minor": 2
}
